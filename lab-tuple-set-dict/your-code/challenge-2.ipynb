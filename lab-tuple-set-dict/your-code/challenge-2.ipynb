{
  "nbformat": 4,
  "nbformat_minor": 0,
  "metadata": {
    "kernelspec": {
      "display_name": "Python 3",
      "language": "python",
      "name": "python3"
    },
    "language_info": {
      "codemirror_mode": {
        "name": "ipython",
        "version": 3
      },
      "file_extension": ".py",
      "mimetype": "text/x-python",
      "name": "python",
      "nbconvert_exporter": "python",
      "pygments_lexer": "ipython3",
      "version": "3.7.2"
    },
    "colab": {
      "name": "challenge-2.ipynb",
      "provenance": []
    }
  },
  "cells": [
    {
      "cell_type": "markdown",
      "metadata": {
        "id": "VH2UY3FS_l3e",
        "colab_type": "text"
      },
      "source": [
        "## Challenge 2: Sets\n",
        "\n",
        "There are a lot to learn about Python Sets and the information presented in the lesson is limited due to its length. To learn Python Sets in depth you are strongly encouraged to review the W3Schools tutorial on [Python Sets Examples and Methods](https://www.w3schools.com/python/python_sets.asp) before you work on this lab. Some difficult questions in this lab have their solutions in the W3Schools tutorial.\n",
        "\n",
        "#### First, import the Python `random` libary"
      ]
    },
    {
      "cell_type": "code",
      "metadata": {
        "id": "sdYDFCb4_l3f",
        "colab_type": "code",
        "colab": {}
      },
      "source": [
        "import random"
      ],
      "execution_count": 0,
      "outputs": []
    },
    {
      "cell_type": "markdown",
      "metadata": {
        "id": "iAqyU5eW_l3k",
        "colab_type": "text"
      },
      "source": [
        "#### In the cell below, create a list named `sample_list_1` with 80 random values. \n",
        "\n",
        "Requirements:\n",
        "\n",
        "* Each value is an integer falling between 0 and 100.\n",
        "* Each value in the list is unique.\n",
        "\n",
        "Print `sample_list_1` to review its values\n",
        "\n",
        "*Hint: use `random.sample` ([reference](https://docs.python.org/3/library/random.html#random.sample)).*"
      ]
    },
    {
      "cell_type": "code",
      "metadata": {
        "id": "SnnVIwpW_l3l",
        "colab_type": "code",
        "outputId": "bdbb7e7f-4c4d-4a8f-8688-68510bc39f71",
        "colab": {
          "base_uri": "https://localhost:8080/",
          "height": 54
        }
      },
      "source": [
        "# Your code here\n",
        "sample_list_1=random.sample(range(101), k=80)\n",
        "print(sample_list_1)"
      ],
      "execution_count": 41,
      "outputs": [
        {
          "output_type": "stream",
          "text": [
            "[21, 33, 5, 42, 66, 63, 70, 57, 8, 15, 99, 14, 58, 100, 34, 77, 6, 71, 65, 47, 98, 93, 74, 73, 44, 94, 59, 27, 13, 84, 79, 16, 25, 53, 91, 23, 24, 30, 51, 52, 22, 18, 31, 96, 9, 28, 78, 2, 83, 88, 0, 90, 1, 50, 55, 76, 29, 17, 20, 92, 72, 10, 7, 35, 97, 54, 81, 41, 87, 67, 56, 11, 89, 62, 19, 45, 86, 95, 61, 43]\n"
          ],
          "name": "stdout"
        }
      ]
    },
    {
      "cell_type": "markdown",
      "metadata": {
        "id": "t2uNf7zN_l3q",
        "colab_type": "text"
      },
      "source": [
        "#### Convert `sample_list_1` to a set called `set1`. Print the length of the set. Is its length still 80?"
      ]
    },
    {
      "cell_type": "code",
      "metadata": {
        "id": "Gro1U9Ma_l3q",
        "colab_type": "code",
        "outputId": "4590da7a-abee-415b-c432-d5cba5ca996c",
        "colab": {
          "base_uri": "https://localhost:8080/",
          "height": 70
        }
      },
      "source": [
        "# Your code here\n",
        "set1=set(sample_list_1)\n",
        "print(set1)\n",
        "print(len(set1))"
      ],
      "execution_count": 68,
      "outputs": [
        {
          "output_type": "stream",
          "text": [
            "{0, 1, 2, 5, 6, 7, 8, 9, 10, 11, 13, 14, 15, 16, 17, 18, 19, 20, 21, 22, 23, 24, 25, 27, 28, 29, 30, 31, 33, 34, 35, 41, 42, 43, 44, 45, 47, 50, 51, 52, 53, 54, 55, 56, 57, 58, 59, 61, 62, 63, 65, 66, 67, 70, 71, 72, 73, 74, 76, 77, 78, 79, 81, 83, 84, 86, 87, 88, 89, 90, 91, 92, 93, 94, 95, 96, 97, 98, 99, 100}\n",
            "80\n"
          ],
          "name": "stdout"
        }
      ]
    },
    {
      "cell_type": "markdown",
      "metadata": {
        "id": "kExkvHrV_l3t",
        "colab_type": "text"
      },
      "source": [
        "#### Create another list named `sample_list_2` with 80 random values.\n",
        "\n",
        "Requirements:\n",
        "\n",
        "* Each value is an integer falling between 0 and 100.\n",
        "* The values in the list don't have to be unique.\n",
        "\n",
        "*Hint: Use a FOR loop.*"
      ]
    },
    {
      "cell_type": "code",
      "metadata": {
        "id": "5HeOs7-w_l3t",
        "colab_type": "code",
        "outputId": "c68f9029-b34c-43ec-9651-8a39e504b44a",
        "colab": {
          "base_uri": "https://localhost:8080/",
          "height": 1000
        }
      },
      "source": [
        "# Your code here\n",
        "sample_list_2=[]\n",
        "\n",
        "for i in range(80):\n",
        "  sample_list_2.append(random.randint(0,100))\n",
        "\n",
        "sample_list_2\n"
      ],
      "execution_count": 43,
      "outputs": [
        {
          "output_type": "execute_result",
          "data": {
            "text/plain": [
              "[42,\n",
              " 65,\n",
              " 31,\n",
              " 64,\n",
              " 45,\n",
              " 91,\n",
              " 22,\n",
              " 62,\n",
              " 96,\n",
              " 67,\n",
              " 78,\n",
              " 52,\n",
              " 95,\n",
              " 53,\n",
              " 93,\n",
              " 46,\n",
              " 11,\n",
              " 61,\n",
              " 46,\n",
              " 33,\n",
              " 55,\n",
              " 94,\n",
              " 23,\n",
              " 97,\n",
              " 79,\n",
              " 41,\n",
              " 14,\n",
              " 89,\n",
              " 7,\n",
              " 12,\n",
              " 27,\n",
              " 67,\n",
              " 4,\n",
              " 34,\n",
              " 70,\n",
              " 93,\n",
              " 92,\n",
              " 24,\n",
              " 40,\n",
              " 58,\n",
              " 20,\n",
              " 83,\n",
              " 15,\n",
              " 7,\n",
              " 91,\n",
              " 50,\n",
              " 51,\n",
              " 82,\n",
              " 38,\n",
              " 38,\n",
              " 75,\n",
              " 48,\n",
              " 72,\n",
              " 86,\n",
              " 25,\n",
              " 83,\n",
              " 94,\n",
              " 44,\n",
              " 59,\n",
              " 65,\n",
              " 99,\n",
              " 25,\n",
              " 95,\n",
              " 51,\n",
              " 2,\n",
              " 69,\n",
              " 36,\n",
              " 78,\n",
              " 44,\n",
              " 82,\n",
              " 23,\n",
              " 3,\n",
              " 56,\n",
              " 20,\n",
              " 68,\n",
              " 49,\n",
              " 32,\n",
              " 54,\n",
              " 84,\n",
              " 49]"
            ]
          },
          "metadata": {
            "tags": []
          },
          "execution_count": 43
        }
      ]
    },
    {
      "cell_type": "markdown",
      "metadata": {
        "id": "bfuvnxQg_l3w",
        "colab_type": "text"
      },
      "source": [
        "#### Convert `sample_list_2` to a set called `set2`. Print the length of the set. Is its length still 80?"
      ]
    },
    {
      "cell_type": "code",
      "metadata": {
        "id": "RQrYfU4z_l3x",
        "colab_type": "code",
        "outputId": "03c9f722-989b-4cea-d2fd-2698df0c1822",
        "colab": {
          "base_uri": "https://localhost:8080/",
          "height": 50
        }
      },
      "source": [
        "# Your code here\n",
        "set2=set(sample_list_2)\n",
        "print(type(set2))\n",
        "print(len(set2))"
      ],
      "execution_count": 44,
      "outputs": [
        {
          "output_type": "stream",
          "text": [
            "<class 'set'>\n",
            "62\n"
          ],
          "name": "stdout"
        }
      ]
    },
    {
      "cell_type": "markdown",
      "metadata": {
        "id": "bzVAt0jP_l34",
        "colab_type": "text"
      },
      "source": [
        "#### Identify the elements present in `set1` but not in `set2`. Assign the elements to a new set named `set3`."
      ]
    },
    {
      "cell_type": "code",
      "metadata": {
        "id": "-FehzrD8_l35",
        "colab_type": "code",
        "outputId": "c583d00a-8f2d-492e-efda-d46edf923e56",
        "colab": {
          "base_uri": "https://localhost:8080/",
          "height": 571
        }
      },
      "source": [
        "# Your code here\n",
        "\n",
        "set3=set1.difference(set2)\n",
        "set3\n",
        "\n",
        "#lista3=[]\n",
        "#for i in set1:\n",
        " #if i not in set2:\n",
        "  #  lista3.append(i) \n",
        "\n",
        "#set3=set(lista3)\n",
        "\n",
        "#print(set3)\n"
      ],
      "execution_count": 45,
      "outputs": [
        {
          "output_type": "execute_result",
          "data": {
            "text/plain": [
              "{0,\n",
              " 1,\n",
              " 5,\n",
              " 6,\n",
              " 8,\n",
              " 9,\n",
              " 10,\n",
              " 13,\n",
              " 16,\n",
              " 17,\n",
              " 18,\n",
              " 19,\n",
              " 21,\n",
              " 28,\n",
              " 29,\n",
              " 30,\n",
              " 35,\n",
              " 43,\n",
              " 47,\n",
              " 57,\n",
              " 63,\n",
              " 66,\n",
              " 71,\n",
              " 73,\n",
              " 74,\n",
              " 76,\n",
              " 77,\n",
              " 81,\n",
              " 87,\n",
              " 88,\n",
              " 90,\n",
              " 98,\n",
              " 100}"
            ]
          },
          "metadata": {
            "tags": []
          },
          "execution_count": 45
        }
      ]
    },
    {
      "cell_type": "markdown",
      "metadata": {
        "id": "joLXcMaI_l3-",
        "colab_type": "text"
      },
      "source": [
        "#### Identify the elements present in `set2` but not in `set1`. Assign the elements to a new set named `set4`."
      ]
    },
    {
      "cell_type": "code",
      "metadata": {
        "id": "PDFNQ43s_l3-",
        "colab_type": "code",
        "colab": {
          "base_uri": "https://localhost:8080/",
          "height": 34
        },
        "outputId": "209aae44-9f8e-403b-db1f-225425be110c"
      },
      "source": [
        "# Your code here\n",
        "set4=set2.difference(set1)\n",
        "set4"
      ],
      "execution_count": 48,
      "outputs": [
        {
          "output_type": "execute_result",
          "data": {
            "text/plain": [
              "{3, 4, 12, 32, 36, 38, 40, 46, 48, 49, 64, 68, 69, 75, 82}"
            ]
          },
          "metadata": {
            "tags": []
          },
          "execution_count": 48
        }
      ]
    },
    {
      "cell_type": "markdown",
      "metadata": {
        "id": "kThe51oo_l4C",
        "colab_type": "text"
      },
      "source": [
        "#### Now Identify the elements shared between `set1` and `set2`. Assign the elements to a new set named `set5`."
      ]
    },
    {
      "cell_type": "code",
      "metadata": {
        "id": "g8fRNomG_l4C",
        "colab_type": "code",
        "colab": {
          "base_uri": "https://localhost:8080/",
          "height": 806
        },
        "outputId": "5d05477b-0cba-4fbf-8adb-9527fe0de4e2"
      },
      "source": [
        "# Your code here\n",
        "set5=set1.intersection(set2)\n",
        "set5"
      ],
      "execution_count": 50,
      "outputs": [
        {
          "output_type": "execute_result",
          "data": {
            "text/plain": [
              "{2,\n",
              " 7,\n",
              " 11,\n",
              " 14,\n",
              " 15,\n",
              " 20,\n",
              " 22,\n",
              " 23,\n",
              " 24,\n",
              " 25,\n",
              " 27,\n",
              " 31,\n",
              " 33,\n",
              " 34,\n",
              " 41,\n",
              " 42,\n",
              " 44,\n",
              " 45,\n",
              " 50,\n",
              " 51,\n",
              " 52,\n",
              " 53,\n",
              " 54,\n",
              " 55,\n",
              " 56,\n",
              " 58,\n",
              " 59,\n",
              " 61,\n",
              " 62,\n",
              " 65,\n",
              " 67,\n",
              " 70,\n",
              " 72,\n",
              " 78,\n",
              " 79,\n",
              " 83,\n",
              " 84,\n",
              " 86,\n",
              " 89,\n",
              " 91,\n",
              " 92,\n",
              " 93,\n",
              " 94,\n",
              " 95,\n",
              " 96,\n",
              " 97,\n",
              " 99}"
            ]
          },
          "metadata": {
            "tags": []
          },
          "execution_count": 50
        }
      ]
    },
    {
      "cell_type": "markdown",
      "metadata": {
        "id": "19mIBWh0_l4I",
        "colab_type": "text"
      },
      "source": [
        "#### What is the relationship among the following values:\n",
        "\n",
        "* len(set1)\n",
        "* len(set2)\n",
        "* len(set3)\n",
        "* len(set4)\n",
        "* len(set5)\n",
        "\n",
        "Use a math formular to represent that relationship. Test your formular with Python code."
      ]
    },
    {
      "cell_type": "code",
      "metadata": {
        "id": "FYRMZDL8_l4J",
        "colab_type": "code",
        "colab": {
          "base_uri": "https://localhost:8080/",
          "height": 101
        },
        "outputId": "0cbcddcc-6a27-44b2-cdee-e9d581f5d90b"
      },
      "source": [
        "# Your code here\n",
        "print(len(set1))\n",
        "print(len(set2))\n",
        "print(len(set3))\n",
        "print(len(set4))\n",
        "print(len(set5))\n",
        "\n",
        "#Len(set1) indica que tenemos 80 elementos únicos, Len(set2) es menor, porque la lista nos permite repetir elementos.\n",
        "#La suma de set3 mas set5 complementan el valor de set1.\n",
        "#Los mismo aplica para set4 más set5 da como resultado set2."
      ],
      "execution_count": 51,
      "outputs": [
        {
          "output_type": "stream",
          "text": [
            "80\n",
            "62\n",
            "33\n",
            "15\n",
            "47\n"
          ],
          "name": "stdout"
        }
      ]
    },
    {
      "cell_type": "markdown",
      "metadata": {
        "id": "k6gFaPnZ_l4M",
        "colab_type": "text"
      },
      "source": [
        "#### Create an empty set called `set6`."
      ]
    },
    {
      "cell_type": "code",
      "metadata": {
        "id": "0HZGOlBA_l4N",
        "colab_type": "code",
        "colab": {}
      },
      "source": [
        "# Your code here\n",
        "set6=set()"
      ],
      "execution_count": 0,
      "outputs": []
    },
    {
      "cell_type": "markdown",
      "metadata": {
        "id": "FlRg1nXN_l4R",
        "colab_type": "text"
      },
      "source": [
        "#### Add `set3` and `set5` to `set6` using the Python Set `update` method."
      ]
    },
    {
      "cell_type": "code",
      "metadata": {
        "id": "EKBnwPmV_l4S",
        "colab_type": "code",
        "colab": {
          "base_uri": "https://localhost:8080/",
          "height": 54
        },
        "outputId": "b2910bd6-7a55-49e5-bd75-ceb4174545ca"
      },
      "source": [
        "# Your code here\n",
        "set6.update(set3)\n",
        "set6.update(set5)\n",
        "print(set6)"
      ],
      "execution_count": 53,
      "outputs": [
        {
          "output_type": "stream",
          "text": [
            "{0, 1, 2, 5, 6, 7, 8, 9, 10, 11, 13, 14, 15, 16, 17, 18, 19, 20, 21, 22, 23, 24, 25, 27, 28, 29, 30, 31, 33, 34, 35, 41, 42, 43, 44, 45, 47, 50, 51, 52, 53, 54, 55, 56, 57, 58, 59, 61, 62, 63, 65, 66, 67, 70, 71, 72, 73, 74, 76, 77, 78, 79, 81, 83, 84, 86, 87, 88, 89, 90, 91, 92, 93, 94, 95, 96, 97, 98, 99, 100}\n"
          ],
          "name": "stdout"
        }
      ]
    },
    {
      "cell_type": "markdown",
      "metadata": {
        "id": "ebTZ5I0m_l4V",
        "colab_type": "text"
      },
      "source": [
        "#### Check if `set1` and `set6` are equal."
      ]
    },
    {
      "cell_type": "code",
      "metadata": {
        "id": "55qvAlya_l4W",
        "colab_type": "code",
        "colab": {
          "base_uri": "https://localhost:8080/",
          "height": 34
        },
        "outputId": "d5492a41-5e9f-4a65-f55b-d2366ff83a7c"
      },
      "source": [
        "# Your code here\n",
        "print(set1 == set6)"
      ],
      "execution_count": 54,
      "outputs": [
        {
          "output_type": "stream",
          "text": [
            "True\n"
          ],
          "name": "stdout"
        }
      ]
    },
    {
      "cell_type": "markdown",
      "metadata": {
        "id": "pVmioQgq_l4Y",
        "colab_type": "text"
      },
      "source": [
        "#### Check if `set1` contains `set2` using the Python Set `issubset` method. Then check if `set1` contains `set3`.*"
      ]
    },
    {
      "cell_type": "code",
      "metadata": {
        "id": "xNN4L7fX_l4Y",
        "colab_type": "code",
        "colab": {
          "base_uri": "https://localhost:8080/",
          "height": 50
        },
        "outputId": "146611c5-a23c-40a1-fbe1-e47146ebfb95"
      },
      "source": [
        "# Your code here\n",
        "print(set2.issubset(set1))\n",
        "print(set3.issubset(set1))\n"
      ],
      "execution_count": 55,
      "outputs": [
        {
          "output_type": "stream",
          "text": [
            "False\n",
            "True\n"
          ],
          "name": "stdout"
        }
      ]
    },
    {
      "cell_type": "markdown",
      "metadata": {
        "id": "DLVUJa9J_l4b",
        "colab_type": "text"
      },
      "source": [
        "#### Using the Python Set `union` method, aggregate `set3`, `set4`, and `set5`. Then aggregate `set1` and `set2`. \n",
        "\n",
        "#### Check if the aggregated values are equal."
      ]
    },
    {
      "cell_type": "code",
      "metadata": {
        "id": "AYv52rN4_l4b",
        "colab_type": "code",
        "colab": {
          "base_uri": "https://localhost:8080/",
          "height": 50
        },
        "outputId": "d4fe5741-ac9d-4f8d-cf3c-abe6f898aa50"
      },
      "source": [
        "# Your code here\n",
        "set7=set3.union(set4,set5)\n",
        "set8=set1.union(set2)\n",
        "print(set7 == set8)\n",
        "print(set7.symmetric_difference(set8))\n",
        "\n",
        "#Vacio significa que no hay diferencia, por tanto son iguales."
      ],
      "execution_count": 65,
      "outputs": [
        {
          "output_type": "stream",
          "text": [
            "True\n",
            "set()\n"
          ],
          "name": "stdout"
        }
      ]
    },
    {
      "cell_type": "markdown",
      "metadata": {
        "id": "Riat0wyh_l4e",
        "colab_type": "text"
      },
      "source": [
        "#### Using the `pop` method, remove the first element from `set1`."
      ]
    },
    {
      "cell_type": "code",
      "metadata": {
        "id": "4zJ9vDKG_l4f",
        "colab_type": "code",
        "colab": {
          "base_uri": "https://localhost:8080/",
          "height": 34
        },
        "outputId": "c1879b82-a353-49e8-db32-c60608d1f4bc"
      },
      "source": [
        "# Your code here\n",
        "print(set1.pop())"
      ],
      "execution_count": 66,
      "outputs": [
        {
          "output_type": "stream",
          "text": [
            "0\n"
          ],
          "name": "stdout"
        }
      ]
    },
    {
      "cell_type": "markdown",
      "metadata": {
        "id": "p9WiXwRq_l4i",
        "colab_type": "text"
      },
      "source": [
        "#### Remove every element in the following list from `set1` if they are present in the set. Print the remaining elements.\n",
        "\n",
        "```\n",
        "list_to_remove = [1, 9, 11, 19, 21, 29, 31, 39, 41, 49, 51, 59, 61, 69, 71, 79, 81, 89, 91, 99]\n",
        "```"
      ]
    },
    {
      "cell_type": "code",
      "metadata": {
        "id": "dHSz8Fc-_l4i",
        "colab_type": "code",
        "colab": {
          "base_uri": "https://localhost:8080/",
          "height": 54
        },
        "outputId": "13bcdab5-066e-4051-a451-9097e2db85ff"
      },
      "source": [
        "# Your code here\n",
        "list_to_remove = [1, 9, 11, 19, 21, 29, 31, 39, 41, 49, 51, 59, 61, 69, 71, 79, 81, 89, 91, 99]\n",
        "\n",
        "for i in list_to_remove:\n",
        "  if i in set1:\n",
        "    set1.remove(i)\n",
        "\n",
        "print(set1)"
      ],
      "execution_count": 72,
      "outputs": [
        {
          "output_type": "stream",
          "text": [
            "{0, 2, 5, 6, 7, 8, 10, 13, 14, 15, 16, 17, 18, 20, 22, 23, 24, 25, 27, 28, 30, 33, 34, 35, 42, 43, 44, 45, 47, 50, 52, 53, 54, 55, 56, 57, 58, 62, 63, 65, 66, 67, 70, 72, 73, 74, 76, 77, 78, 83, 84, 86, 87, 88, 90, 92, 93, 94, 95, 96, 97, 98, 100}\n"
          ],
          "name": "stdout"
        }
      ]
    }
  ]
}